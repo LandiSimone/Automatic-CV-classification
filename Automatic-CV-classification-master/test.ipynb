{
 "cells": [
  {
   "cell_type": "code",
   "execution_count": 75,
   "metadata": {
    "collapsed": true,
    "pycharm": {
     "name": "#%%\n"
    }
   },
   "outputs": [
    {
     "data": {
      "text/plain": "  Category                                             Resume Cleaned resume\n0       HR           HR ADMINISTRATOR/MARKETING ASSOCIATE\\...               \n1       HR           HR SPECIALIST, US HR OPERATIONS      ...               \n2       HR           HR DIRECTOR       Summary      Over 2...               \n3       HR           HR SPECIALIST       Summary    Dedica...               \n4       HR           HR MANAGER         Skill Highlights  ...               ",
      "text/html": "<div>\n<style scoped>\n    .dataframe tbody tr th:only-of-type {\n        vertical-align: middle;\n    }\n\n    .dataframe tbody tr th {\n        vertical-align: top;\n    }\n\n    .dataframe thead th {\n        text-align: right;\n    }\n</style>\n<table border=\"1\" class=\"dataframe\">\n  <thead>\n    <tr style=\"text-align: right;\">\n      <th></th>\n      <th>Category</th>\n      <th>Resume</th>\n      <th>Cleaned resume</th>\n    </tr>\n  </thead>\n  <tbody>\n    <tr>\n      <th>0</th>\n      <td>HR</td>\n      <td>HR ADMINISTRATOR/MARKETING ASSOCIATE\\...</td>\n      <td></td>\n    </tr>\n    <tr>\n      <th>1</th>\n      <td>HR</td>\n      <td>HR SPECIALIST, US HR OPERATIONS      ...</td>\n      <td></td>\n    </tr>\n    <tr>\n      <th>2</th>\n      <td>HR</td>\n      <td>HR DIRECTOR       Summary      Over 2...</td>\n      <td></td>\n    </tr>\n    <tr>\n      <th>3</th>\n      <td>HR</td>\n      <td>HR SPECIALIST       Summary    Dedica...</td>\n      <td></td>\n    </tr>\n    <tr>\n      <th>4</th>\n      <td>HR</td>\n      <td>HR MANAGER         Skill Highlights  ...</td>\n      <td></td>\n    </tr>\n  </tbody>\n</table>\n</div>"
     },
     "execution_count": 75,
     "metadata": {},
     "output_type": "execute_result"
    }
   ],
   "source": [
    "import numpy as np\n",
    "import pandas as pd\n",
    "import matplotlib.pyplot as plt\n",
    "import warnings\n",
    "warnings.filterwarnings('ignore')\n",
    "from sklearn.naive_bayes import MultinomialNB\n",
    "from sklearn.multiclass import OneVsRestClassifier\n",
    "from sklearn import metrics\n",
    "from sklearn.metrics import accuracy_score\n",
    "from pandas.plotting import scatter_matrix\n",
    "from sklearn.neighbors import KNeighborsClassifier\n",
    "from sklearn import metrics\n",
    "\n",
    "resumes1 = pd.read_csv('input/data-2.csv' ,encoding='utf-8')\n",
    "del resumes1['ID']\n",
    "del resumes1['Resume_html']\n",
    "resumes1['Resume'] = resumes1['Resume_str']\n",
    "del resumes1['Resume_str']\n",
    "resumes1['Cleaned resume'] = ''\n",
    "resumes1.head()"
   ]
  },
  {
   "cell_type": "code",
   "execution_count": 76,
   "outputs": [
    {
     "data": {
      "text/plain": "       Category                                             Resume  \\\n0  Data Science  Skills * Programming Languages: Python (pandas...   \n1  Data Science  Education Details \\r\\nMay 2013 to May 2017 B.E...   \n2  Data Science  Areas of Interest Deep Learning, Control Syste...   \n3  Data Science  Skills â¢ R â¢ Python â¢ SAP HANA â¢ Table...   \n4  Data Science  Education Details \\r\\n MCA   YMCAUST,  Faridab...   \n\n  Cleaned resume  \n0                 \n1                 \n2                 \n3                 \n4                 ",
      "text/html": "<div>\n<style scoped>\n    .dataframe tbody tr th:only-of-type {\n        vertical-align: middle;\n    }\n\n    .dataframe tbody tr th {\n        vertical-align: top;\n    }\n\n    .dataframe thead th {\n        text-align: right;\n    }\n</style>\n<table border=\"1\" class=\"dataframe\">\n  <thead>\n    <tr style=\"text-align: right;\">\n      <th></th>\n      <th>Category</th>\n      <th>Resume</th>\n      <th>Cleaned resume</th>\n    </tr>\n  </thead>\n  <tbody>\n    <tr>\n      <th>0</th>\n      <td>Data Science</td>\n      <td>Skills * Programming Languages: Python (pandas...</td>\n      <td></td>\n    </tr>\n    <tr>\n      <th>1</th>\n      <td>Data Science</td>\n      <td>Education Details \\r\\nMay 2013 to May 2017 B.E...</td>\n      <td></td>\n    </tr>\n    <tr>\n      <th>2</th>\n      <td>Data Science</td>\n      <td>Areas of Interest Deep Learning, Control Syste...</td>\n      <td></td>\n    </tr>\n    <tr>\n      <th>3</th>\n      <td>Data Science</td>\n      <td>Skills â¢ R â¢ Python â¢ SAP HANA â¢ Table...</td>\n      <td></td>\n    </tr>\n    <tr>\n      <th>4</th>\n      <td>Data Science</td>\n      <td>Education Details \\r\\n MCA   YMCAUST,  Faridab...</td>\n      <td></td>\n    </tr>\n  </tbody>\n</table>\n</div>"
     },
     "execution_count": 76,
     "metadata": {},
     "output_type": "execute_result"
    }
   ],
   "source": [
    "resumes2 = pd.read_csv('input/data.csv' ,encoding='utf-8')\n",
    "resumes2['Cleaned resume'] = ''\n",
    "resumes2.head()"
   ],
   "metadata": {
    "collapsed": false,
    "pycharm": {
     "name": "#%%\n"
    }
   }
  },
  {
   "cell_type": "code",
   "execution_count": 77,
   "outputs": [
    {
     "data": {
      "text/plain": "(2484, 3)"
     },
     "execution_count": 77,
     "metadata": {},
     "output_type": "execute_result"
    }
   ],
   "source": [
    "resumes1.shape"
   ],
   "metadata": {
    "collapsed": false,
    "pycharm": {
     "name": "#%%\n"
    }
   }
  },
  {
   "cell_type": "code",
   "execution_count": 78,
   "outputs": [
    {
     "data": {
      "text/plain": "(962, 3)"
     },
     "execution_count": 78,
     "metadata": {},
     "output_type": "execute_result"
    }
   ],
   "source": [
    "resumes2.shape"
   ],
   "metadata": {
    "collapsed": false,
    "pycharm": {
     "name": "#%%\n"
    }
   }
  },
  {
   "cell_type": "code",
   "execution_count": 79,
   "outputs": [
    {
     "name": "stdout",
     "output_type": "stream",
     "text": [
      "['HR' 'DESIGNER' 'INFORMATION-TECHNOLOGY' 'TEACHER' 'ADVOCATE'\n",
      " 'BUSINESS-DEVELOPMENT' 'HEALTHCARE' 'FITNESS' 'AGRICULTURE' 'BPO' 'SALES'\n",
      " 'CONSULTANT' 'DIGITAL-MEDIA' 'AUTOMOBILE' 'CHEF' 'FINANCE' 'APPAREL'\n",
      " 'ENGINEERING' 'ACCOUNTANT' 'CONSTRUCTION' 'PUBLIC-RELATIONS' 'BANKING'\n",
      " 'ARTS' 'AVIATION']\n",
      "['Data Science' 'HR' 'Advocate' 'Arts' 'Web Designing'\n",
      " 'Mechanical Engineer' 'Sales' 'Health and fitness' 'Civil Engineer'\n",
      " 'Java Developer' 'Business Analyst' 'SAP Developer' 'Automation Testing'\n",
      " 'Electrical Engineering' 'Operations Manager' 'Python Developer'\n",
      " 'DevOps Engineer' 'Network Security Engineer' 'PMO' 'Database' 'Hadoop'\n",
      " 'ETL Developer' 'DotNet Developer' 'Blockchain' 'Testing']\n"
     ]
    }
   ],
   "source": [
    "print (resumes1['Category'].unique())\n",
    "print (resumes2['Category'].unique())"
   ],
   "metadata": {
    "collapsed": false,
    "pycharm": {
     "name": "#%%\n"
    }
   }
  },
  {
   "cell_type": "code",
   "execution_count": 80,
   "outputs": [
    {
     "data": {
      "text/plain": "  Category                                             Resume Cleaned resume\n0       hr           HR ADMINISTRATOR/MARKETING ASSOCIATE\\...               \n1       hr           HR SPECIALIST, US HR OPERATIONS      ...               \n2       hr           HR DIRECTOR       Summary      Over 2...               \n3       hr           HR SPECIALIST       Summary    Dedica...               \n4       hr           HR MANAGER         Skill Highlights  ...               ",
      "text/html": "<div>\n<style scoped>\n    .dataframe tbody tr th:only-of-type {\n        vertical-align: middle;\n    }\n\n    .dataframe tbody tr th {\n        vertical-align: top;\n    }\n\n    .dataframe thead th {\n        text-align: right;\n    }\n</style>\n<table border=\"1\" class=\"dataframe\">\n  <thead>\n    <tr style=\"text-align: right;\">\n      <th></th>\n      <th>Category</th>\n      <th>Resume</th>\n      <th>Cleaned resume</th>\n    </tr>\n  </thead>\n  <tbody>\n    <tr>\n      <th>0</th>\n      <td>hr</td>\n      <td>HR ADMINISTRATOR/MARKETING ASSOCIATE\\...</td>\n      <td></td>\n    </tr>\n    <tr>\n      <th>1</th>\n      <td>hr</td>\n      <td>HR SPECIALIST, US HR OPERATIONS      ...</td>\n      <td></td>\n    </tr>\n    <tr>\n      <th>2</th>\n      <td>hr</td>\n      <td>HR DIRECTOR       Summary      Over 2...</td>\n      <td></td>\n    </tr>\n    <tr>\n      <th>3</th>\n      <td>hr</td>\n      <td>HR SPECIALIST       Summary    Dedica...</td>\n      <td></td>\n    </tr>\n    <tr>\n      <th>4</th>\n      <td>hr</td>\n      <td>HR MANAGER         Skill Highlights  ...</td>\n      <td></td>\n    </tr>\n  </tbody>\n</table>\n</div>"
     },
     "execution_count": 80,
     "metadata": {},
     "output_type": "execute_result"
    }
   ],
   "source": [
    "resumes1['Category'] = resumes1.Category.apply(lambda text: text.lower())\n",
    "resumes1.head()"
   ],
   "metadata": {
    "collapsed": false,
    "pycharm": {
     "name": "#%%\n"
    }
   }
  },
  {
   "cell_type": "code",
   "execution_count": 81,
   "outputs": [
    {
     "data": {
      "text/plain": "       Category                                             Resume  \\\n0  data science  Skills * Programming Languages: Python (pandas...   \n1  data science  Education Details \\r\\nMay 2013 to May 2017 B.E...   \n2  data science  Areas of Interest Deep Learning, Control Syste...   \n3  data science  Skills â¢ R â¢ Python â¢ SAP HANA â¢ Table...   \n4  data science  Education Details \\r\\n MCA   YMCAUST,  Faridab...   \n\n  Cleaned resume  \n0                 \n1                 \n2                 \n3                 \n4                 ",
      "text/html": "<div>\n<style scoped>\n    .dataframe tbody tr th:only-of-type {\n        vertical-align: middle;\n    }\n\n    .dataframe tbody tr th {\n        vertical-align: top;\n    }\n\n    .dataframe thead th {\n        text-align: right;\n    }\n</style>\n<table border=\"1\" class=\"dataframe\">\n  <thead>\n    <tr style=\"text-align: right;\">\n      <th></th>\n      <th>Category</th>\n      <th>Resume</th>\n      <th>Cleaned resume</th>\n    </tr>\n  </thead>\n  <tbody>\n    <tr>\n      <th>0</th>\n      <td>data science</td>\n      <td>Skills * Programming Languages: Python (pandas...</td>\n      <td></td>\n    </tr>\n    <tr>\n      <th>1</th>\n      <td>data science</td>\n      <td>Education Details \\r\\nMay 2013 to May 2017 B.E...</td>\n      <td></td>\n    </tr>\n    <tr>\n      <th>2</th>\n      <td>data science</td>\n      <td>Areas of Interest Deep Learning, Control Syste...</td>\n      <td></td>\n    </tr>\n    <tr>\n      <th>3</th>\n      <td>data science</td>\n      <td>Skills â¢ R â¢ Python â¢ SAP HANA â¢ Table...</td>\n      <td></td>\n    </tr>\n    <tr>\n      <th>4</th>\n      <td>data science</td>\n      <td>Education Details \\r\\n MCA   YMCAUST,  Faridab...</td>\n      <td></td>\n    </tr>\n  </tbody>\n</table>\n</div>"
     },
     "execution_count": 81,
     "metadata": {},
     "output_type": "execute_result"
    }
   ],
   "source": [
    "resumes2['Category'] = resumes2.Category.apply(lambda text: text.lower())\n",
    "resumes2.head()"
   ],
   "metadata": {
    "collapsed": false,
    "pycharm": {
     "name": "#%%\n"
    }
   }
  },
  {
   "cell_type": "code",
   "execution_count": 82,
   "outputs": [
    {
     "name": "stdout",
     "output_type": "stream",
     "text": [
      "['hr' 'designer' 'information-technology' 'teacher' 'advocate'\n",
      " 'business-development' 'healthcare' 'fitness' 'agriculture' 'bpo' 'sales'\n",
      " 'consultant' 'digital-media' 'automobile' 'chef' 'finance' 'apparel'\n",
      " 'engineering' 'accountant' 'construction' 'public-relations' 'banking'\n",
      " 'arts' 'aviation']\n",
      "['data science' 'hr' 'advocate' 'arts' 'web designing'\n",
      " 'mechanical engineer' 'sales' 'health and fitness' 'civil engineer'\n",
      " 'java developer' 'business analyst' 'sap developer' 'automation testing'\n",
      " 'electrical engineering' 'operations manager' 'python developer'\n",
      " 'devops engineer' 'network security engineer' 'pmo' 'database' 'hadoop'\n",
      " 'etl developer' 'dotnet developer' 'blockchain' 'testing']\n"
     ]
    }
   ],
   "source": [
    "print (resumes1['Category'].unique())\n",
    "print (resumes2['Category'].unique())"
   ],
   "metadata": {
    "collapsed": false,
    "pycharm": {
     "name": "#%%\n"
    }
   }
  },
  {
   "cell_type": "code",
   "execution_count": 83,
   "outputs": [
    {
     "data": {
      "text/plain": "pandas.core.frame.DataFrame"
     },
     "execution_count": 83,
     "metadata": {},
     "output_type": "execute_result"
    }
   ],
   "source": [
    "type(resumes1)"
   ],
   "metadata": {
    "collapsed": false,
    "pycharm": {
     "name": "#%%\n"
    }
   }
  },
  {
   "cell_type": "code",
   "execution_count": 84,
   "outputs": [
    {
     "name": "stdout",
     "output_type": "stream",
     "text": [
      "['hr' 'designer' 'information-technology' 'teacher' 'advocate'\n",
      " 'business-development' 'healthcare' 'fitness' 'agriculture' 'bpo' 'sales'\n",
      " 'consultant' 'digital-media' 'automobile' 'chef' 'finance' 'apparel'\n",
      " 'accountant' 'construction' 'public-relations' 'banking' 'arts'\n",
      " 'aviation']\n"
     ]
    }
   ],
   "source": [
    "resumes1 = resumes1[resumes1.Category != 'engineering']\n",
    "print (resumes1['Category'].unique())"
   ],
   "metadata": {
    "collapsed": false,
    "pycharm": {
     "name": "#%%\n"
    }
   }
  },
  {
   "cell_type": "code",
   "execution_count": 85,
   "outputs": [
    {
     "name": "stdout",
     "output_type": "stream",
     "text": [
      "['hr' 'designer' 'information-technology' 'teacher' 'advocate'\n",
      " 'business-development' 'healthcare' 'fitness' 'agriculture' 'sales'\n",
      " 'consultant' 'digital-media' 'automobile' 'chef' 'finance' 'apparel'\n",
      " 'accountant' 'construction' 'public-relations' 'banking' 'arts'\n",
      " 'aviation']\n"
     ]
    }
   ],
   "source": [
    "resumes1 = resumes1[resumes1.Category != 'bpo']\n",
    "print (resumes1['Category'].unique())"
   ],
   "metadata": {
    "collapsed": false,
    "pycharm": {
     "name": "#%%\n"
    }
   }
  },
  {
   "cell_type": "code",
   "execution_count": 86,
   "outputs": [
    {
     "name": "stdout",
     "output_type": "stream",
     "text": [
      "['hr' 'designer' 'information-technology' 'teacher' 'advocate'\n",
      " 'business-development' 'healthcare' 'fitness' 'agriculture' 'consultant'\n",
      " 'digital-media' 'automobile' 'chef' 'finance' 'apparel' 'accountant'\n",
      " 'construction' 'public-relations' 'banking' 'arts' 'aviation']\n"
     ]
    }
   ],
   "source": [
    "resumes1 = resumes1[resumes1.Category != 'sales']\n",
    "print (resumes1['Category'].unique())"
   ],
   "metadata": {
    "collapsed": false,
    "pycharm": {
     "name": "#%%\n"
    }
   }
  },
  {
   "cell_type": "code",
   "execution_count": 87,
   "outputs": [
    {
     "data": {
      "text/plain": "(3190, 3)"
     },
     "execution_count": 87,
     "metadata": {},
     "output_type": "execute_result"
    }
   ],
   "source": [
    "resumes = resumes1.append(resumes2)\n",
    "resumes.shape"
   ],
   "metadata": {
    "collapsed": false,
    "pycharm": {
     "name": "#%%\n"
    }
   }
  },
  {
   "cell_type": "code",
   "execution_count": 88,
   "outputs": [],
   "source": [
    "resumes.to_csv(\"input/dataset.csv\", index=False)"
   ],
   "metadata": {
    "collapsed": false,
    "pycharm": {
     "name": "#%%\n"
    }
   }
  },
  {
   "cell_type": "code",
   "execution_count": 88,
   "outputs": [],
   "source": [],
   "metadata": {
    "collapsed": false,
    "pycharm": {
     "name": "#%%\n"
    }
   }
  }
 ],
 "metadata": {
  "kernelspec": {
   "display_name": "Python 3",
   "language": "python",
   "name": "python3"
  },
  "language_info": {
   "codemirror_mode": {
    "name": "ipython",
    "version": 2
   },
   "file_extension": ".py",
   "mimetype": "text/x-python",
   "name": "python",
   "nbconvert_exporter": "python",
   "pygments_lexer": "ipython2",
   "version": "2.7.6"
  }
 },
 "nbformat": 4,
 "nbformat_minor": 0
}